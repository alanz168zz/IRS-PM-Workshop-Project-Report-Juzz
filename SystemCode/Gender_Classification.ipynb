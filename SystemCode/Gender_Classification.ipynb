{
  "nbformat": 4,
  "nbformat_minor": 0,
  "metadata": {
    "colab": {
      "provenance": [],
      "collapsed_sections": []
    },
    "kernelspec": {
      "name": "python3",
      "display_name": "Python 3"
    },
    "language_info": {
      "name": "python"
    }
  },
  "cells": [
    {
      "cell_type": "code",
      "execution_count": null,
      "metadata": {
        "colab": {
          "base_uri": "https://localhost:8080/"
        },
        "id": "rmQQ7FnAtQMC",
        "outputId": "7b8bf5f7-481a-420e-a747-5dedd21a9047"
      },
      "outputs": [
        {
          "output_type": "stream",
          "name": "stdout",
          "text": [
            "Drive already mounted at /content/drive; to attempt to forcibly remount, call drive.mount(\"/content/drive\", force_remount=True).\n"
          ]
        }
      ],
      "source": [
        "from google.colab import drive \n",
        "drive.mount('/content/drive')\n"
      ]
    },
    {
      "cell_type": "code",
      "source": [
        "# EDA package\n",
        "import pandas as pd\n",
        "import numpy as np"
      ],
      "metadata": {
        "id": "vEy2-G5Wvwiq"
      },
      "execution_count": null,
      "outputs": []
    },
    {
      "cell_type": "code",
      "source": [
        "# ML packages\n",
        "from sklearn.feature_extraction.text import CountVectorizer\n",
        "from sklearn.feature_extraction import DictVectorizer\n",
        "#from sklearn.feature_extraction.text import TfidfVectorizer"
      ],
      "metadata": {
        "id": "e8W9JA0nuHEN"
      },
      "execution_count": null,
      "outputs": []
    },
    {
      "cell_type": "code",
      "source": [
        "# Load the dataset\n",
        "df = pd.read_csv('drive/My Drive/JuzzChatBot/100names.csv')"
      ],
      "metadata": {
        "id": "XHHciL8Qu6xj"
      },
      "execution_count": null,
      "outputs": []
    },
    {
      "cell_type": "code",
      "source": [
        "df.size"
      ],
      "metadata": {
        "colab": {
          "base_uri": "https://localhost:8080/"
        },
        "id": "8yBY-nluyU9p",
        "outputId": "dd7410cc-b3a2-4fa2-b3bb-ed945c274de0"
      },
      "execution_count": null,
      "outputs": [
        {
          "output_type": "execute_result",
          "data": {
            "text/plain": [
              "196"
            ]
          },
          "metadata": {},
          "execution_count": 40
        }
      ]
    },
    {
      "cell_type": "code",
      "source": [
        "#Data Cleaning\n",
        "# Check for column name consistency\n",
        "df.columns"
      ],
      "metadata": {
        "colab": {
          "base_uri": "https://localhost:8080/"
        },
        "id": "0LXs5KBkyZg0",
        "outputId": "a9bc9d73-b644-41ed-825c-fe6fb4ecef26"
      },
      "execution_count": null,
      "outputs": [
        {
          "output_type": "execute_result",
          "data": {
            "text/plain": [
              "Index(['names', 'sex'], dtype='object')"
            ]
          },
          "metadata": {},
          "execution_count": 41
        }
      ]
    },
    {
      "cell_type": "code",
      "source": [
        "#Data types\n",
        "df.dtypes"
      ],
      "metadata": {
        "colab": {
          "base_uri": "https://localhost:8080/"
        },
        "id": "mt7GhqeFymkU",
        "outputId": "7e9cdc6d-5879-4a16-a8e1-f4e484511882"
      },
      "execution_count": null,
      "outputs": [
        {
          "output_type": "execute_result",
          "data": {
            "text/plain": [
              "names    object\n",
              "sex      object\n",
              "dtype: object"
            ]
          },
          "metadata": {},
          "execution_count": 42
        }
      ]
    },
    {
      "cell_type": "code",
      "source": [
        "# Check for missing values\n",
        "df.isnull().isnull().sum()"
      ],
      "metadata": {
        "colab": {
          "base_uri": "https://localhost:8080/"
        },
        "id": "zNJ8IP5ry3Op",
        "outputId": "d58485d4-b459-4449-dd81-606108337711"
      },
      "execution_count": null,
      "outputs": [
        {
          "output_type": "execute_result",
          "data": {
            "text/plain": [
              "names    0\n",
              "sex      0\n",
              "dtype: int64"
            ]
          },
          "metadata": {},
          "execution_count": 43
        }
      ]
    },
    {
      "cell_type": "code",
      "source": [
        "# Number of female names\n",
        "df[df.sex == 'female'].size"
      ],
      "metadata": {
        "colab": {
          "base_uri": "https://localhost:8080/"
        },
        "id": "IYm0PZiP3hQD",
        "outputId": "cac970db-1b01-4179-86e5-4f7135c882e5"
      },
      "execution_count": null,
      "outputs": [
        {
          "output_type": "execute_result",
          "data": {
            "text/plain": [
              "70"
            ]
          },
          "metadata": {},
          "execution_count": 44
        }
      ]
    },
    {
      "cell_type": "code",
      "source": [
        "# Number of Male names\n",
        "df[df.sex == 'male'].size\n"
      ],
      "metadata": {
        "colab": {
          "base_uri": "https://localhost:8080/"
        },
        "id": "MqoD0EgE38Kd",
        "outputId": "cc9ec33a-24af-4420-ebaa-60a9b3230708"
      },
      "execution_count": null,
      "outputs": [
        {
          "output_type": "execute_result",
          "data": {
            "text/plain": [
              "126"
            ]
          },
          "metadata": {},
          "execution_count": 45
        }
      ]
    },
    {
      "cell_type": "code",
      "source": [
        "df_name = df"
      ],
      "metadata": {
        "id": "QcRCt5sj4wpk"
      },
      "execution_count": null,
      "outputs": []
    },
    {
      "cell_type": "code",
      "source": [
        "#Replacing all female and male with 0 and 1 \n",
        "df_name.sex.replace({'female':0,'male':1}, inplace=True)"
      ],
      "metadata": {
        "id": "RZ9t-boc41IA"
      },
      "execution_count": null,
      "outputs": []
    },
    {
      "cell_type": "code",
      "source": [
        "df_name.sex.unique()"
      ],
      "metadata": {
        "colab": {
          "base_uri": "https://localhost:8080/"
        },
        "id": "1wHgXFJ85TW-",
        "outputId": "03d1977b-6ab7-40d7-b7be-9ecb2ff1df0a"
      },
      "execution_count": null,
      "outputs": [
        {
          "output_type": "execute_result",
          "data": {
            "text/plain": [
              "array([1, 0])"
            ]
          },
          "metadata": {},
          "execution_count": 48
        }
      ]
    },
    {
      "cell_type": "code",
      "source": [
        "df_name.dtypes"
      ],
      "metadata": {
        "colab": {
          "base_uri": "https://localhost:8080/"
        },
        "id": "qTbeH5eB53g-",
        "outputId": "d3afcb80-0689-4e68-df3f-8e5a04390637"
      },
      "execution_count": null,
      "outputs": [
        {
          "output_type": "execute_result",
          "data": {
            "text/plain": [
              "names    object\n",
              "sex       int64\n",
              "dtype: object"
            ]
          },
          "metadata": {},
          "execution_count": 49
        }
      ]
    },
    {
      "cell_type": "code",
      "source": [
        "Xfeatures = df_name['names']"
      ],
      "metadata": {
        "id": "cC6IApmX7DgW"
      },
      "execution_count": null,
      "outputs": []
    },
    {
      "cell_type": "code",
      "source": [
        "# Feature Extraction\n",
        "cv = CountVectorizer()\n",
        "X = cv.fit_transform(Xfeatures)"
      ],
      "metadata": {
        "id": "DI2evZ7Q7ZlF"
      },
      "execution_count": null,
      "outputs": []
    },
    {
      "cell_type": "code",
      "source": [
        "cv.get_feature_names()"
      ],
      "metadata": {
        "colab": {
          "base_uri": "https://localhost:8080/"
        },
        "id": "n5u17tYh7uSy",
        "outputId": "dd32dc3c-fbee-41d9-b2fa-96dd5e8e7c3d"
      },
      "execution_count": null,
      "outputs": [
        {
          "output_type": "execute_result",
          "data": {
            "text/plain": [
              "['aden',\n",
              " 'adilah',\n",
              " 'adrian',\n",
              " 'ahammad',\n",
              " 'alex',\n",
              " 'alistar',\n",
              " 'ananda',\n",
              " 'ang',\n",
              " 'ann',\n",
              " 'ansley',\n",
              " 'ariel',\n",
              " 'bebeh',\n",
              " 'beh',\n",
              " 'boo',\n",
              " 'brenda',\n",
              " 'catherine',\n",
              " 'cavien',\n",
              " 'chai',\n",
              " 'chan',\n",
              " 'chee',\n",
              " 'cheng',\n",
              " 'chia',\n",
              " 'chiew',\n",
              " 'chong',\n",
              " 'choo',\n",
              " 'choong',\n",
              " 'chua',\n",
              " 'cova',\n",
              " 'de',\n",
              " 'dino',\n",
              " 'fariz',\n",
              " 'fern',\n",
              " 'gek',\n",
              " 'gerd',\n",
              " 'gildon',\n",
              " 'gina',\n",
              " 'goh',\n",
              " 'gunjikar',\n",
              " 'halim',\n",
              " 'hansen',\n",
              " 'hauy',\n",
              " 'heng',\n",
              " 'herry',\n",
              " 'hong',\n",
              " 'hsin',\n",
              " 'hui',\n",
              " 'hwee',\n",
              " 'inis',\n",
              " 'jarrod',\n",
              " 'jen',\n",
              " 'jennie',\n",
              " 'jenny',\n",
              " 'jens',\n",
              " 'jessie',\n",
              " 'jiaming',\n",
              " 'jiekai',\n",
              " 'jimmy',\n",
              " 'johnny',\n",
              " 'joo',\n",
              " 'joshua',\n",
              " 'julie',\n",
              " 'jun',\n",
              " 'kaiyun',\n",
              " 'karan',\n",
              " 'karthick',\n",
              " 'keam',\n",
              " 'kean',\n",
              " 'keat',\n",
              " 'kee',\n",
              " 'kheong',\n",
              " 'khim',\n",
              " 'kim',\n",
              " 'kong',\n",
              " 'kuah',\n",
              " 'kwan',\n",
              " 'kyaw',\n",
              " 'lau',\n",
              " 'lay',\n",
              " 'lee',\n",
              " 'leh',\n",
              " 'leng',\n",
              " 'li',\n",
              " 'lim',\n",
              " 'linda',\n",
              " 'ling',\n",
              " 'lional',\n",
              " 'loong',\n",
              " 'louis',\n",
              " 'madelil',\n",
              " 'md',\n",
              " 'mei',\n",
              " 'michael',\n",
              " 'min',\n",
              " 'ming',\n",
              " 'mohammad',\n",
              " 'mon',\n",
              " 'monica',\n",
              " 'nair',\n",
              " 'najib',\n",
              " 'namrata',\n",
              " 'naren',\n",
              " 'ng',\n",
              " 'ngiap',\n",
              " 'nicholas',\n",
              " 'nicole',\n",
              " 'ong',\n",
              " 'osman',\n",
              " 'pei',\n",
              " 'peng',\n",
              " 'phua',\n",
              " 'piou',\n",
              " 'quek',\n",
              " 'rachel',\n",
              " 'ren',\n",
              " 'robyn',\n",
              " 'rositah',\n",
              " 'rumi',\n",
              " 'samantha',\n",
              " 'seng',\n",
              " 'seong',\n",
              " 'serene',\n",
              " 'shafiqq',\n",
              " 'shah',\n",
              " 'sheng',\n",
              " 'shine',\n",
              " 'shu',\n",
              " 'siah',\n",
              " 'siew',\n",
              " 'simeon',\n",
              " 'sin',\n",
              " 'soh',\n",
              " 'suleiman',\n",
              " 'tan',\n",
              " 'tang',\n",
              " 'teik',\n",
              " 'thye',\n",
              " 'tin',\n",
              " 'ting',\n",
              " 'tom',\n",
              " 'tuli',\n",
              " 'vincent',\n",
              " 'vui',\n",
              " 'wai',\n",
              " 'wang',\n",
              " 'wee',\n",
              " 'wen',\n",
              " 'wilfred',\n",
              " 'wu',\n",
              " 'xenn',\n",
              " 'xu',\n",
              " 'yan',\n",
              " 'yen',\n",
              " 'yong',\n",
              " 'yun',\n",
              " 'yuong',\n",
              " 'zai',\n",
              " 'zijun']"
            ]
          },
          "metadata": {},
          "execution_count": 52
        }
      ]
    },
    {
      "cell_type": "code",
      "source": [
        "from sklearn.model_selection import train_test_split"
      ],
      "metadata": {
        "id": "dCx1NIA770fU"
      },
      "execution_count": null,
      "outputs": []
    },
    {
      "cell_type": "code",
      "source": [
        "#Features\n",
        "X\n",
        "#Labels\n",
        "y = df_name.sex"
      ],
      "metadata": {
        "id": "hYmFSw7w7_6s"
      },
      "execution_count": null,
      "outputs": []
    },
    {
      "cell_type": "code",
      "source": [
        "X_train, X_test, y_train, y_test = train_test_split(X, y, test_size = 0.33,random_state = 42)"
      ],
      "metadata": {
        "id": "q6NWpFnp80Hv"
      },
      "execution_count": null,
      "outputs": []
    },
    {
      "cell_type": "code",
      "source": [
        "# Naive Baynes Classifier is used because it does not require large dataset and juzz only gives us 100 dataset. It is fast and can make real time classifier\n",
        "from sklearn.naive_bayes import MultinomialNB\n",
        "clf = MultinomialNB()\n",
        "clf.fit(X_train,y_train)\n",
        "clf.score(X_test,y_test)"
      ],
      "metadata": {
        "colab": {
          "base_uri": "https://localhost:8080/"
        },
        "id": "lTs23Fje9THo",
        "outputId": "811f656b-96e6-4015-e35f-afba76bdfd6c"
      },
      "execution_count": null,
      "outputs": [
        {
          "output_type": "execute_result",
          "data": {
            "text/plain": [
              "0.6060606060606061"
            ]
          },
          "metadata": {},
          "execution_count": 56
        }
      ]
    },
    {
      "cell_type": "code",
      "source": [
        "# Accuracy of our model\n",
        "print(\"Accuracy of Model\",clf.score(X_test,y_test)*100,\"%\")"
      ],
      "metadata": {
        "colab": {
          "base_uri": "https://localhost:8080/"
        },
        "id": "wK-jgtUiAxKA",
        "outputId": "63dadb5f-d043-4394-8f57-c4e48b22cb77"
      },
      "execution_count": null,
      "outputs": [
        {
          "output_type": "stream",
          "name": "stdout",
          "text": [
            "Accuracy of Model 60.60606060606061 %\n"
          ]
        }
      ]
    },
    {
      "cell_type": "code",
      "source": [
        "#Accuracy of our model\n",
        "print(\"Accuracy of model\", clf.score(X_train,y_train)*100,\"%\")"
      ],
      "metadata": {
        "colab": {
          "base_uri": "https://localhost:8080/"
        },
        "id": "P9ozKQzABuKu",
        "outputId": "432f4b59-9ec2-435f-c7fa-6a32a516b9c3"
      },
      "execution_count": null,
      "outputs": [
        {
          "output_type": "stream",
          "name": "stdout",
          "text": [
            "Accuracy of model 100.0 %\n"
          ]
        }
      ]
    },
    {
      "cell_type": "code",
      "source": [
        "#Sample1 Prediction\n",
        "sample_name = [\"Mark\"]\n",
        "vect =cv.transform(sample_name).toarray()"
      ],
      "metadata": {
        "id": "xMPEtwSECDnk"
      },
      "execution_count": null,
      "outputs": []
    },
    {
      "cell_type": "code",
      "source": [
        "#Female is 0, Male is 1\n",
        "clf.predict(vect)"
      ],
      "metadata": {
        "colab": {
          "base_uri": "https://localhost:8080/"
        },
        "id": "PV2-MgmMCglU",
        "outputId": "6df10d38-c57d-46f6-a526-155551c990b1"
      },
      "execution_count": null,
      "outputs": [
        {
          "output_type": "execute_result",
          "data": {
            "text/plain": [
              "array([1])"
            ]
          },
          "metadata": {},
          "execution_count": 60
        }
      ]
    },
    {
      "cell_type": "code",
      "source": [
        "# Sample2 Prediction\n",
        "sample_name1 =[\"Peter\"]\n",
        "vect2 =cv.transform(sample_name1).toarray()"
      ],
      "metadata": {
        "id": "Nl3X1gTr65jl"
      },
      "execution_count": null,
      "outputs": []
    },
    {
      "cell_type": "code",
      "source": [
        "#Female is 0, Male is 1\n",
        "clf.predict(vect2)"
      ],
      "metadata": {
        "colab": {
          "base_uri": "https://localhost:8080/"
        },
        "id": "rcb1VMhI7SI5",
        "outputId": "626715d5-68b4-458e-e8a8-2f518cd46302"
      },
      "execution_count": null,
      "outputs": [
        {
          "output_type": "execute_result",
          "data": {
            "text/plain": [
              "array([1])"
            ]
          },
          "metadata": {},
          "execution_count": 62
        }
      ]
    },
    {
      "cell_type": "code",
      "source": [
        "# Sample3 Prediction\n",
        "sample_name2 =[\"Jessie\"]\n",
        "vect3 =cv.transform(sample_name2).toarray()"
      ],
      "metadata": {
        "id": "IJDTMUXB7orH"
      },
      "execution_count": null,
      "outputs": []
    },
    {
      "cell_type": "code",
      "source": [
        "#Female is 0, Male is 1\n",
        "clf.predict(vect3)"
      ],
      "metadata": {
        "colab": {
          "base_uri": "https://localhost:8080/"
        },
        "id": "J1R4G4087ugP",
        "outputId": "6d692b97-f847-483f-a4d2-09c4107dc187"
      },
      "execution_count": null,
      "outputs": [
        {
          "output_type": "execute_result",
          "data": {
            "text/plain": [
              "array([0])"
            ]
          },
          "metadata": {},
          "execution_count": 64
        }
      ]
    },
    {
      "cell_type": "code",
      "source": [
        "!pip install --upgrade gspread"
      ],
      "metadata": {
        "id": "8G2-zCupYWGG",
        "colab": {
          "base_uri": "https://localhost:8080/"
        },
        "outputId": "7a12bdbc-d071-4ac5-9436-06e8c35ea5ec"
      },
      "execution_count": null,
      "outputs": [
        {
          "output_type": "stream",
          "name": "stdout",
          "text": [
            "Looking in indexes: https://pypi.org/simple, https://us-python.pkg.dev/colab-wheels/public/simple/\n",
            "Requirement already satisfied: gspread in /usr/local/lib/python3.7/dist-packages (3.4.2)\n",
            "Collecting gspread\n",
            "  Downloading gspread-5.6.2-py3-none-any.whl (38 kB)\n",
            "Requirement already satisfied: google-auth>=1.12.0 in /usr/local/lib/python3.7/dist-packages (from gspread) (1.35.0)\n",
            "Requirement already satisfied: google-auth-oauthlib>=0.4.1 in /usr/local/lib/python3.7/dist-packages (from gspread) (0.4.6)\n",
            "Requirement already satisfied: pyasn1-modules>=0.2.1 in /usr/local/lib/python3.7/dist-packages (from google-auth>=1.12.0->gspread) (0.2.8)\n",
            "Requirement already satisfied: six>=1.9.0 in /usr/local/lib/python3.7/dist-packages (from google-auth>=1.12.0->gspread) (1.15.0)\n",
            "Requirement already satisfied: setuptools>=40.3.0 in /usr/local/lib/python3.7/dist-packages (from google-auth>=1.12.0->gspread) (57.4.0)\n",
            "Requirement already satisfied: cachetools<5.0,>=2.0.0 in /usr/local/lib/python3.7/dist-packages (from google-auth>=1.12.0->gspread) (4.2.4)\n",
            "Requirement already satisfied: rsa<5,>=3.1.4 in /usr/local/lib/python3.7/dist-packages (from google-auth>=1.12.0->gspread) (4.9)\n",
            "Requirement already satisfied: requests-oauthlib>=0.7.0 in /usr/local/lib/python3.7/dist-packages (from google-auth-oauthlib>=0.4.1->gspread) (1.3.1)\n",
            "Requirement already satisfied: pyasn1<0.5.0,>=0.4.6 in /usr/local/lib/python3.7/dist-packages (from pyasn1-modules>=0.2.1->google-auth>=1.12.0->gspread) (0.4.8)\n",
            "Requirement already satisfied: oauthlib>=3.0.0 in /usr/local/lib/python3.7/dist-packages (from requests-oauthlib>=0.7.0->google-auth-oauthlib>=0.4.1->gspread) (3.2.2)\n",
            "Requirement already satisfied: requests>=2.0.0 in /usr/local/lib/python3.7/dist-packages (from requests-oauthlib>=0.7.0->google-auth-oauthlib>=0.4.1->gspread) (2.23.0)\n",
            "Requirement already satisfied: urllib3!=1.25.0,!=1.25.1,<1.26,>=1.21.1 in /usr/local/lib/python3.7/dist-packages (from requests>=2.0.0->requests-oauthlib>=0.7.0->google-auth-oauthlib>=0.4.1->gspread) (1.24.3)\n",
            "Requirement already satisfied: chardet<4,>=3.0.2 in /usr/local/lib/python3.7/dist-packages (from requests>=2.0.0->requests-oauthlib>=0.7.0->google-auth-oauthlib>=0.4.1->gspread) (3.0.4)\n",
            "Requirement already satisfied: certifi>=2017.4.17 in /usr/local/lib/python3.7/dist-packages (from requests>=2.0.0->requests-oauthlib>=0.7.0->google-auth-oauthlib>=0.4.1->gspread) (2022.9.24)\n",
            "Requirement already satisfied: idna<3,>=2.5 in /usr/local/lib/python3.7/dist-packages (from requests>=2.0.0->requests-oauthlib>=0.7.0->google-auth-oauthlib>=0.4.1->gspread) (2.10)\n",
            "Installing collected packages: gspread\n",
            "  Attempting uninstall: gspread\n",
            "    Found existing installation: gspread 3.4.2\n",
            "    Uninstalling gspread-3.4.2:\n",
            "      Successfully uninstalled gspread-3.4.2\n",
            "Successfully installed gspread-5.6.2\n"
          ]
        }
      ]
    },
    {
      "cell_type": "code",
      "source": [
        "from google.colab import auth\n",
        "auth.authenticate_user()\n",
        "\n",
        "import gspread\n",
        "from google.auth import default\n",
        "creds, _ = default()\n",
        "\n",
        "gc = gspread.authorize(creds)\n",
        "\n",
        "wb = gc.open_by_key('1akpkCKVR1rcAYYQwQNVxMUdvkOBEj7u35Sa3rG5543E')\n"
      ],
      "metadata": {
        "id": "FzPHLw1PRI3Q"
      },
      "execution_count": null,
      "outputs": []
    },
    {
      "cell_type": "code",
      "source": [
        "# Sample3 Prediction of Random Names\n",
        "sample_name3 = [\"Nefertiti\",\"Nasha\",\"Ama\",\"Ayo\",\"Xhavier\",\"Ovetta\",\"Tathiana\",\"Xia\",\"Joseph\",\"Xianliang\"]\n",
        "vect3 = cv.transform(sample_name3).toarray()"
      ],
      "metadata": {
        "id": "9iDXuzbFkvbz"
      },
      "execution_count": null,
      "outputs": []
    },
    {
      "cell_type": "code",
      "source": [
        "clf.predict(vect3)"
      ],
      "metadata": {
        "colab": {
          "base_uri": "https://localhost:8080/"
        },
        "id": "If81V5GtlB-J",
        "outputId": "bb2d489b-0792-4b50-e950-90856fe546eb"
      },
      "execution_count": null,
      "outputs": [
        {
          "output_type": "execute_result",
          "data": {
            "text/plain": [
              "array([1, 1, 1, 1, 1, 1, 1, 1, 1, 1])"
            ]
          },
          "metadata": {},
          "execution_count": 68
        }
      ]
    },
    {
      "cell_type": "code",
      "source": [
        "# A function to do it\n",
        "def genderpredictor(a):\n",
        "    data_set = [a]\n",
        "    vector = cv.transform(data_set).toarray()\n",
        "    if clf.predict(vector) == 0:\n",
        "        print(\"Female\")\n",
        "    else:\n",
        "        print(\"Male\")"
      ],
      "metadata": {
        "id": "BbsT2urTlODU"
      },
      "execution_count": null,
      "outputs": []
    },
    {
      "cell_type": "code",
      "source": [
        "namelist = [\"Yaa\",\"Yaw\",\"Femi\",\"Masha\"]\n",
        "for i in namelist:\n",
        "    print(genderpredictor(i))"
      ],
      "metadata": {
        "colab": {
          "base_uri": "https://localhost:8080/"
        },
        "id": "hZpEjZcwlWyj",
        "outputId": "3f4a86fd-8903-467e-b118-2a6fb813f8a4"
      },
      "execution_count": null,
      "outputs": [
        {
          "output_type": "stream",
          "name": "stdout",
          "text": [
            "Male\n",
            "None\n",
            "Male\n",
            "None\n",
            "Male\n",
            "None\n",
            "Male\n",
            "None\n"
          ]
        }
      ]
    },
    {
      "cell_type": "code",
      "source": [
        "# Predicting the gender in new dataset in csv under \"Contacts sheet\"\n",
        "namelist = [\"Alex Lee\",\"Loh Lee Chin\",\"Shell Nee toh\",\"Sharon neo\",\"Jaslyn wee\",\"New Wee Keong\",\"Samuel Hourong\",\"Angeline Long\",\"Chew Speacor\",\"Low Fong Moi\",\"Jiancon Fong\",\n",
        "\"Ling Ling Chai\",\"Audrey Wu\",\"Choon Seong Lim\",\"Max Sum\",\"Wai Yee Choo\",\"Beiqing Zhao\",\"Bernard Chong\",\"Mun Bryan\",\"Vicki Ding\",\"Simon Chang\",\"Yan Xion\",\"Sze Ling Ng\",\"Danru Wen\",\n",
        "\"Karen Tham\",\"Lim Yong Chang\",\"Tan Hui Leng\",\"Chiou Pey Leong\",\"Beng Hon Wee\",\"Adrian yu Hung Wei\",\"Susan Zhao\",\"Lydia Liu\",\"Chin han chung\",\"Ying Chai Lee\",\"Thng Kok Meng\",\"Tiffany Dong\",\n",
        "\"Mun Hong Yuen\",\"Karl Chandran\",\"Bruno Sng\",\"Chong Yang Sng\",\"Yi Fan Tan\",\"Kah Hui Chng\",\"Cheng Sook Fen\",\"Clyn Koh\",\"Julian Elisa Alimin\",\"Shu Chin Lau\",\"Brynn Ting\",\n",
        "\"Therasa Chang\",\"Tee Bee Chin\",\"Wei Long\",\"Benny Tan\",\"Sharmanie Tan\",\"Ng Wan Ting\",\"Choon Siang Chua\",\"Ling Ing Choo\",\"Jamie Loh\",\"Shaun Tan\",\"Hiang Chye Chang\",\"Kelvin Wong\",\n",
        "\"Fany Fong Yin Kiew\",\"Terence Cheng\",\"Jong Soon Kai\",\"Chia Lim\",\"Kai Jun Yeo\",\"Xamioming Sun\",\"Lee Fang Tan\",\"Chrysun Zapata\",\"Cynthia Goh\",\"Yu lily Chen\",\"Kim Peng Lee\",\"Chan Felicia\",\n",
        "\"Grace Yang\",\"Jasmine Chong\",\"Amanda Lim\",\"Shermaine Tan\",\"Jimmy Woon\",\"Albert Ong\",\"Jia Hann Tan\",\"Chia Nancy\",\"Vivian Fong\",\"Eddie Lim\",\"Shiqi Liang\",\"Teh Tit Hean\",\n",
        "\"Phua Huat\",\"Chi Ling Kong\",\"Tay Catherine\",\"Lee Sharine\",\"Lim Mei Ping\",\"Stanly Yong\",\"Jianhua Weng\",\"Ng Sau Kheng\",\"Eveline Yip\",\"Pui Lee Tong\",\"Samantha Wong\",\"Guo Wanping\",\n",
        "\"Aaron Poh\",\"Joseph Eng\",\"Rachael Lo\",\"Joanne Goh\",\"Hai Chew Ng\",]\n",
        "for i in namelist:\n",
        "    print(genderpredictor(i))"
      ],
      "metadata": {
        "colab": {
          "base_uri": "https://localhost:8080/"
        },
        "id": "yDaiAK2vUMtr",
        "outputId": "d060d956-449c-4ead-853c-231e27f148db"
      },
      "execution_count": null,
      "outputs": [
        {
          "output_type": "stream",
          "name": "stdout",
          "text": [
            "Male\n",
            "None\n",
            "Male\n",
            "None\n",
            "Male\n",
            "None\n",
            "Male\n",
            "None\n",
            "Male\n",
            "None\n",
            "Male\n",
            "None\n",
            "Male\n",
            "None\n",
            "Male\n",
            "None\n",
            "Male\n",
            "None\n",
            "Male\n",
            "None\n",
            "Male\n",
            "None\n",
            "Male\n",
            "None\n",
            "Male\n",
            "None\n",
            "Female\n",
            "None\n",
            "Male\n",
            "None\n",
            "Male\n",
            "None\n",
            "Male\n",
            "None\n",
            "Male\n",
            "None\n",
            "Male\n",
            "None\n",
            "Male\n",
            "None\n",
            "Male\n",
            "None\n",
            "Male\n",
            "None\n",
            "Male\n",
            "None\n",
            "Male\n",
            "None\n",
            "Male\n",
            "None\n",
            "Male\n",
            "None\n",
            "Male\n",
            "None\n",
            "Male\n",
            "None\n",
            "Male\n",
            "None\n",
            "Male\n",
            "None\n",
            "Male\n",
            "None\n",
            "Male\n",
            "None\n",
            "Male\n",
            "None\n",
            "Male\n",
            "None\n",
            "Male\n",
            "None\n",
            "Male\n",
            "None\n",
            "Male\n",
            "None\n",
            "Male\n",
            "None\n",
            "Male\n",
            "None\n",
            "Male\n",
            "None\n",
            "Male\n",
            "None\n",
            "Male\n",
            "None\n",
            "Male\n",
            "None\n",
            "Male\n",
            "None\n",
            "Male\n",
            "None\n",
            "Male\n",
            "None\n",
            "Male\n",
            "None\n",
            "Male\n",
            "None\n",
            "Male\n",
            "None\n",
            "Male\n",
            "None\n",
            "Male\n",
            "None\n",
            "Male\n",
            "None\n",
            "Male\n",
            "None\n",
            "Male\n",
            "None\n",
            "Male\n",
            "None\n",
            "Male\n",
            "None\n",
            "Male\n",
            "None\n",
            "Male\n",
            "None\n",
            "Male\n",
            "None\n",
            "Male\n",
            "None\n",
            "Male\n",
            "None\n",
            "Male\n",
            "None\n",
            "Male\n",
            "None\n",
            "Male\n",
            "None\n",
            "Male\n",
            "None\n",
            "Male\n",
            "None\n",
            "Male\n",
            "None\n",
            "Male\n",
            "None\n",
            "Male\n",
            "None\n",
            "Male\n",
            "None\n",
            "Male\n",
            "None\n",
            "Male\n",
            "None\n",
            "Male\n",
            "None\n",
            "Female\n",
            "None\n",
            "Male\n",
            "None\n",
            "Male\n",
            "None\n",
            "Male\n",
            "None\n",
            "Male\n",
            "None\n",
            "Male\n",
            "None\n",
            "Male\n",
            "None\n",
            "Female\n",
            "None\n",
            "Male\n",
            "None\n",
            "Male\n",
            "None\n",
            "Male\n",
            "None\n",
            "Male\n",
            "None\n",
            "Female\n",
            "None\n",
            "Male\n",
            "None\n",
            "Female\n",
            "None\n",
            "Male\n",
            "None\n",
            "Male\n",
            "None\n",
            "Male\n",
            "None\n",
            "Male\n",
            "None\n",
            "Male\n",
            "None\n",
            "Female\n",
            "None\n",
            "Male\n",
            "None\n",
            "Male\n",
            "None\n",
            "Male\n",
            "None\n",
            "Male\n",
            "None\n",
            "Male\n",
            "None\n",
            "Male\n",
            "None\n"
          ]
        }
      ]
    },
    {
      "cell_type": "code",
      "source": [
        "genderpredictor(\"Nicole\")"
      ],
      "metadata": {
        "colab": {
          "base_uri": "https://localhost:8080/"
        },
        "id": "FJchdyzllZj9",
        "outputId": "da98fee6-fe3a-4c87-8872-1e7e93b1c6d0"
      },
      "execution_count": null,
      "outputs": [
        {
          "output_type": "stream",
          "name": "stdout",
          "text": [
            "Female\n"
          ]
        }
      ]
    },
    {
      "cell_type": "code",
      "source": [
        "ws = wb.worksheet('100names')\n",
        "\n",
        "# get_all_values gives a list of rows.\n",
        "rows = ws.get_all_values()\n",
        "print(rows)\n",
        "\n",
        "# Convert to a DataFrame and render.\n",
        "#import pandas as pd\n",
        "df100names=pd.DataFrame.from_records(rows[1:],columns=rows[0])\n",
        "print(df100names)"
      ],
      "metadata": {
        "colab": {
          "base_uri": "https://localhost:8080/"
        },
        "id": "AvSViJFvPvJC",
        "outputId": "6dd3317c-3428-4968-89c2-81abdc18b495"
      },
      "execution_count": null,
      "outputs": [
        {
          "output_type": "stream",
          "name": "stdout",
          "text": [
            "[['names', 'sex'], ['Kyaw', 'male'], ['Quek Kim Lee', 'female'], ['Herry Chai', 'male'], ['Julie', 'female'], ['Gerd', 'male'], ['Michael Ng Kean Teik', 'male'], ['Naren', 'male'], ['Jessie Ong', 'female'], ['Lay Khim', 'female'], ['Wu', 'male'], ['Monica', 'female'], ['Alex', 'male'], ['Louis', 'male'], ['Phua Xu Mei', 'male'], ['Nicole T', 'female'], ['Gina', 'female'], ['Robyn Catherine Nair', 'female'], ['K Lee', 'male'], ['Serene Lee', 'female'], ['Lau Siew Lee', 'female'], ['Adilah', 'female'], ['Kuah Boo Cheng', 'male'], ['Wen Ting', 'female'], ['Rachel Heng', 'female'], ['Kong De Ren', 'male'], ['Karthick', 'male'], ['Yen Yen', 'female'], ['Yuong', 'male'], ['Jennie', 'female'], ['Ong Gek Tin', 'male'], ['Tan Wai Loong', 'male'], ['Simeon Tang', 'male'], ['Shine Ang', 'female'], ['Lee Jiekai', 'male'], ['Zijun', 'male'], ['Johnny', 'male'], ['Linda D Tom', 'male'], ['Ariel', 'male'], ['Shah', 'male'], ['Rositah', 'female'], ['Chee Kheong', 'male'], ['Shu Ting', 'male'], ['Kaiyun', 'female'], ['Goh Pei Yong', 'male'], ['Jiaming', 'male'], ['Vincent', 'male'], ['Choong Mei Siah', 'female'], ['Beh Yan Peng', 'male'], ['Jimmy Chong', 'male'], ['Lau Leh Fern', 'female'], ['Wang Ngiap Kee', 'male'], ['Phua Li Choo', 'female'], ['Lim Mei Yen', 'female'], ['Chiew Hong', 'male'], ['Gunjikar Namrata', 'female'], ['Lee Keam Chai', 'male'], ['Cavien Ong Jun Sheng', 'male'], ['Wai Mon', 'male'], ['Alistar', 'male'], ['Lee Vui Kong', 'male'], ['Wee Hui Ling', 'male'], ['Xenn', 'male'], ['Brenda', 'female'], ['N.Chan Y Y', 'male'], ['Thye Kwan', 'female'], ['Zai', 'male'], ['Mohammad Najib', 'male'], ['Suleiman', 'male'], ['Madelil', 'female'], ['Hwee Joo', 'female'], ['Ann', 'female'], ['Yun Min', 'male'], ['Hansen Jens', 'male'], ['Aden', 'male'], ['Samantha Halim', 'female'], ['Sin Leng Piou', 'male'], ['Jarrod', 'male'], ['Shafiqq', 'male'], ['Gildon C.', 'male'], ['Dino Chia', 'male'], ['Ahammad Md Rumi', 'male'], ['Ansley', 'female'], ['Wilfred Lee', 'male'], ['Cova', 'female'], ['Ming', 'male'], ['Osman', 'male'], ['Bebeh', 'female'], ['Karan Tuli', 'male'], ['Jenny Ong', 'female'], ['Joshua Adrian', 'male'], ['Tan Seng Hauy', 'male'], ['Fariz', 'male'], ['Chong Jen Min', 'female'], ['Chua Seong Keat', 'male'], ['Nicholas Soh', 'male'], ['Lional Ananda', 'male'], ['Wee Hsin', 'male'], ['Inis', 'female']]\n",
            "              names     sex\n",
            "0              Kyaw    male\n",
            "1      Quek Kim Lee  female\n",
            "2        Herry Chai    male\n",
            "3             Julie  female\n",
            "4              Gerd    male\n",
            "..              ...     ...\n",
            "93  Chua Seong Keat    male\n",
            "94     Nicholas Soh    male\n",
            "95    Lional Ananda    male\n",
            "96         Wee Hsin    male\n",
            "97             Inis  female\n",
            "\n",
            "[98 rows x 2 columns]\n"
          ]
        }
      ]
    },
    {
      "cell_type": "code",
      "source": [
        "wsContacts = wb.worksheet('Contacts')\n",
        "\n",
        "# get_all_values gives a list of rows.\n",
        "contactListofLists = wsContacts.get_all_values()\n",
        "\n",
        "# Convert to a DataFrame and render.\n",
        "dfContacts = pd.DataFrame.from_records(contactListofLists[1:],columns=contactListofLists[0])\n",
        "print(dfContacts)"
      ],
      "metadata": {
        "colab": {
          "base_uri": "https://localhost:8080/"
        },
        "id": "4MjGvR-_HfKO",
        "outputId": "ffd703e1-7796-41b2-d7a7-6f6cadd7d100"
      },
      "execution_count": null,
      "outputs": [
        {
          "output_type": "stream",
          "name": "stdout",
          "text": [
            "            names sex\n",
            "0        Alex Lee    \n",
            "1    Loh Lee Chin    \n",
            "2   Shell Nee toh    \n",
            "3      Sharon neo    \n",
            "4      Jaslyn wee    \n",
            "..            ...  ..\n",
            "95      Aaron Poh    \n",
            "96     Joseph Eng    \n",
            "97     Rachael Lo    \n",
            "98     Joanne Goh    \n",
            "99    Hai Chew Ng    \n",
            "\n",
            "[100 rows x 2 columns]\n"
          ]
        }
      ]
    },
    {
      "cell_type": "code",
      "source": [
        "wsResult = wb.worksheet('Results')\n",
        "# wsResult.update(none,dataToWrite)\n"
      ],
      "metadata": {
        "id": "5bNN3xU-hAhK"
      },
      "execution_count": null,
      "outputs": []
    },
    {
      "cell_type": "code",
      "source": [
        "from google.colab import drive\n",
        "drive.mount('/content/drive')\n",
        "df = pd.read_csv('drive/My Drive/JuzzChatBot/Contacts.csv')  # read predict file\n",
        "namelist = []\n",
        "results = []\n",
        " for i in range(df['name']):\n",
        "  namelist.append(i)\n",
        "  name= genderpredictor(i)\n",
        "  results.append(name)\n",
        "\n",
        "dataframe = pd.DataFrame({'name':namelist,'sex':results}) \n",
        "dataframe.to_csv(\"drive/My Drive/JuzzChatBot/Results.csv\") # read output file\n",
        "\n",
        "\n"
      ],
      "metadata": {
        "id": "h06flf16XsGn"
      },
      "execution_count": null,
      "outputs": []
    }
  ]
}